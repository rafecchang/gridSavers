{
 "cells": [
  {
   "cell_type": "code",
   "execution_count": 7,
   "metadata": {},
   "outputs": [],
   "source": [
    "import pandas as pd"
   ]
  },
  {
   "cell_type": "code",
   "execution_count": 8,
   "metadata": {},
   "outputs": [
    {
     "data": {
      "text/html": [
       "<div>\n",
       "<style scoped>\n",
       "    .dataframe tbody tr th:only-of-type {\n",
       "        vertical-align: middle;\n",
       "    }\n",
       "\n",
       "    .dataframe tbody tr th {\n",
       "        vertical-align: top;\n",
       "    }\n",
       "\n",
       "    .dataframe thead th {\n",
       "        text-align: right;\n",
       "    }\n",
       "</style>\n",
       "<table border=\"1\" class=\"dataframe\">\n",
       "  <thead>\n",
       "    <tr style=\"text-align: right;\">\n",
       "      <th></th>\n",
       "      <th>OPR_DT</th>\n",
       "      <th>NODE</th>\n",
       "      <th>MW</th>\n",
       "      <th>INTERVALSTARTTIME</th>\n",
       "      <th>INTERVALENDTIME</th>\n",
       "    </tr>\n",
       "  </thead>\n",
       "  <tbody>\n",
       "    <tr>\n",
       "      <th>0</th>\n",
       "      <td>2025-05-12</td>\n",
       "      <td>AFPR_1_TOT_GEN-APND</td>\n",
       "      <td>42.62938</td>\n",
       "      <td>2025-05-12 00:00:00</td>\n",
       "      <td>2025-05-12 01:00:00</td>\n",
       "    </tr>\n",
       "    <tr>\n",
       "      <th>1</th>\n",
       "      <td>2025-05-12</td>\n",
       "      <td>AFPR_1_TOT_GEN-APND</td>\n",
       "      <td>40.00993</td>\n",
       "      <td>2025-05-12 01:00:00</td>\n",
       "      <td>2025-05-12 02:00:00</td>\n",
       "    </tr>\n",
       "    <tr>\n",
       "      <th>2</th>\n",
       "      <td>2025-05-12</td>\n",
       "      <td>AFPR_1_TOT_GEN-APND</td>\n",
       "      <td>37.27168</td>\n",
       "      <td>2025-05-12 02:00:00</td>\n",
       "      <td>2025-05-12 03:00:00</td>\n",
       "    </tr>\n",
       "    <tr>\n",
       "      <th>3</th>\n",
       "      <td>2025-05-12</td>\n",
       "      <td>AFPR_1_TOT_GEN-APND</td>\n",
       "      <td>37.20192</td>\n",
       "      <td>2025-05-12 03:00:00</td>\n",
       "      <td>2025-05-12 04:00:00</td>\n",
       "    </tr>\n",
       "    <tr>\n",
       "      <th>4</th>\n",
       "      <td>2025-05-12</td>\n",
       "      <td>AFPR_1_TOT_GEN-APND</td>\n",
       "      <td>39.59306</td>\n",
       "      <td>2025-05-12 04:00:00</td>\n",
       "      <td>2025-05-12 05:00:00</td>\n",
       "    </tr>\n",
       "  </tbody>\n",
       "</table>\n",
       "</div>"
      ],
      "text/plain": [
       "       OPR_DT                 NODE        MW   INTERVALSTARTTIME  \\\n",
       "0  2025-05-12  AFPR_1_TOT_GEN-APND  42.62938 2025-05-12 00:00:00   \n",
       "1  2025-05-12  AFPR_1_TOT_GEN-APND  40.00993 2025-05-12 01:00:00   \n",
       "2  2025-05-12  AFPR_1_TOT_GEN-APND  37.27168 2025-05-12 02:00:00   \n",
       "3  2025-05-12  AFPR_1_TOT_GEN-APND  37.20192 2025-05-12 03:00:00   \n",
       "4  2025-05-12  AFPR_1_TOT_GEN-APND  39.59306 2025-05-12 04:00:00   \n",
       "\n",
       "      INTERVALENDTIME  \n",
       "0 2025-05-12 01:00:00  \n",
       "1 2025-05-12 02:00:00  \n",
       "2 2025-05-12 03:00:00  \n",
       "3 2025-05-12 04:00:00  \n",
       "4 2025-05-12 05:00:00  "
      ]
     },
     "execution_count": 8,
     "metadata": {},
     "output_type": "execute_result"
    }
   ],
   "source": [
    "df = pd.read_csv('data/512.csv')\n",
    "df = df[df[\"LMP_TYPE\"] == \"LMP\"]\n",
    "\n",
    "df['INTERVALSTARTTIME_GMT'] = pd.to_datetime(df['INTERVALSTARTTIME_GMT'], utc=True)\n",
    "df['INTERVALENDTIME_GMT'] = pd.to_datetime(df['INTERVALENDTIME_GMT'], utc=True)\n",
    "\n",
    "# Step 2: Convert to California time\n",
    "df['INTERVALSTARTTIME_CA'] = df['INTERVALSTARTTIME_GMT'].dt.tz_convert('America/Los_Angeles')\n",
    "df['INTERVALENDTIME_CA'] = df['INTERVALENDTIME_GMT'].dt.tz_convert('America/Los_Angeles')\n",
    "\n",
    "# Step 3: Remove timezone info (drop the -07:00)\n",
    "df['INTERVALSTARTTIME_CA'] = df['INTERVALSTARTTIME_CA'].dt.tz_localize(None)\n",
    "df['INTERVALENDTIME_CA'] = df['INTERVALENDTIME_CA'].dt.tz_localize(None)\n",
    "\n",
    "# Step 4: Reorder so CA local times appear right after GMT or replace them\n",
    "# Option A: Replace GMT columns entirely\n",
    "df = df.drop(columns=['INTERVALSTARTTIME_GMT', 'INTERVALENDTIME_GMT'])  # optional\n",
    "df = df.rename(columns={\n",
    "    'INTERVALSTARTTIME_CA': 'INTERVALSTARTTIME',\n",
    "    'INTERVALENDTIME_CA': 'INTERVALENDTIME'\n",
    "})\n",
    "\n",
    "df = df.drop(columns=['NODE_ID_XML', 'OPR_HR', 'NODE_ID', 'PNODE_RESMRID', 'GROUP', 'LMP_TYPE', 'POS', 'LMP_TYPE', 'MARKET_RUN_ID', 'OPR_INTERVAL', 'XML_DATA_ITEM', 'GRP_TYPE'])  # Drop extras\n",
    "df = df.sort_values(by=['NODE', 'INTERVALSTARTTIME']).reset_index(drop=True)\n",
    "\n",
    "df.head() "
   ]
  },
  {
   "cell_type": "code",
   "execution_count": 9,
   "metadata": {},
   "outputs": [],
   "source": [
    "df.to_csv(\"data/512pre.csv\", index=False)"
   ]
  }
 ],
 "metadata": {
  "kernelspec": {
   "display_name": "531",
   "language": "python",
   "name": "python3"
  },
  "language_info": {
   "codemirror_mode": {
    "name": "ipython",
    "version": 3
   },
   "file_extension": ".py",
   "mimetype": "text/x-python",
   "name": "python",
   "nbconvert_exporter": "python",
   "pygments_lexer": "ipython3",
   "version": "3.11.9"
  }
 },
 "nbformat": 4,
 "nbformat_minor": 2
}
